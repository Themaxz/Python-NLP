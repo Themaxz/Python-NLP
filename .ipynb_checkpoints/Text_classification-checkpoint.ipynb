{
 "cells": [
  {
   "cell_type": "code",
   "execution_count": 156,
   "metadata": {
    "collapsed": true
   },
   "outputs": [],
   "source": [
    "import numpy as np\n",
    "import json \n",
    "# training set\n",
    "training = json.load(open('training.json'))\n",
    "training_data = []\n",
    "training_labels = []\n",
    "for element in training:\n",
    "    training_labels.append(element['label'])\n",
    "    training_data.append(element['text'])\n",
    "# test set\n",
    "test = json.load(open('test.json'))\n",
    "test_data = []\n",
    "test_labels = []\n",
    "for element in test:\n",
    "    test_labels.append(element['label'])\n",
    "    test_data.append(element['text'])\n",
    "    \n",
    "    \n",
    "def extractDataFromJason(file):\n",
    "    training = json.load(open('training.json'))\n",
    "    training_data = []\n",
    "    training_labels = []\n",
    "    return list(map(lambda x: x['text'],training)), list(map(lambda y: y['label'],training))\n",
    "    "
   ]
  },
  {
   "cell_type": "code",
   "execution_count": 157,
   "metadata": {},
   "outputs": [
    {
     "ename": "NameError",
     "evalue": "name 'x' is not defined",
     "output_type": "error",
     "traceback": [
      "\u001b[1;31m---------------------------------------------------------------------------\u001b[0m",
      "\u001b[1;31mNameError\u001b[0m                                 Traceback (most recent call last)",
      "\u001b[1;32m<ipython-input-157-d37d7247e6c3>\u001b[0m in \u001b[0;36m<module>\u001b[1;34m()\u001b[0m\n\u001b[1;32m----> 1\u001b[1;33m \u001b[0mtext\u001b[0m\u001b[1;33m,\u001b[0m \u001b[0mlabels\u001b[0m \u001b[1;33m=\u001b[0m \u001b[0mextractDataFromJason\u001b[0m\u001b[1;33m(\u001b[0m\u001b[1;34m'training.json'\u001b[0m\u001b[1;33m)\u001b[0m\u001b[1;33m\u001b[0m\u001b[0m\n\u001b[0m\u001b[0;32m      2\u001b[0m \u001b[1;32mfrom\u001b[0m \u001b[0msklearn\u001b[0m\u001b[1;33m.\u001b[0m\u001b[0mfeature_extraction\u001b[0m\u001b[1;33m.\u001b[0m\u001b[0mtext\u001b[0m \u001b[1;32mimport\u001b[0m \u001b[0mCountVectorizer\u001b[0m\u001b[1;33m\u001b[0m\u001b[0m\n\u001b[0;32m      3\u001b[0m \u001b[1;31m# Vectorization\u001b[0m\u001b[1;33m\u001b[0m\u001b[1;33m\u001b[0m\u001b[0m\n\u001b[0;32m      4\u001b[0m \u001b[0mcount_vect\u001b[0m \u001b[1;33m=\u001b[0m \u001b[0mCountVectorizer\u001b[0m\u001b[1;33m(\u001b[0m\u001b[1;33m)\u001b[0m\u001b[1;33m\u001b[0m\u001b[0m\n\u001b[0;32m      5\u001b[0m \u001b[0mX_train_counts\u001b[0m \u001b[1;33m=\u001b[0m \u001b[0mcount_vect\u001b[0m\u001b[1;33m.\u001b[0m\u001b[0mfit_transform\u001b[0m\u001b[1;33m(\u001b[0m\u001b[0mtraining_data\u001b[0m\u001b[1;33m)\u001b[0m\u001b[1;33m\u001b[0m\u001b[0m\n",
      "\u001b[1;32m<ipython-input-156-04756b9f4654>\u001b[0m in \u001b[0;36mextractDataFromJason\u001b[1;34m(file)\u001b[0m\n\u001b[0;32m     21\u001b[0m     \u001b[0mtraining_data\u001b[0m \u001b[1;33m=\u001b[0m \u001b[1;33m[\u001b[0m\u001b[1;33m]\u001b[0m\u001b[1;33m\u001b[0m\u001b[0m\n\u001b[0;32m     22\u001b[0m     \u001b[0mtraining_labels\u001b[0m \u001b[1;33m=\u001b[0m \u001b[1;33m[\u001b[0m\u001b[1;33m]\u001b[0m\u001b[1;33m\u001b[0m\u001b[0m\n\u001b[1;32m---> 23\u001b[1;33m     \u001b[1;32mreturn\u001b[0m \u001b[0mlist\u001b[0m\u001b[1;33m(\u001b[0m\u001b[0mmap\u001b[0m\u001b[1;33m(\u001b[0m\u001b[0mx\u001b[0m\u001b[1;33m[\u001b[0m\u001b[1;34m'text'\u001b[0m\u001b[1;33m]\u001b[0m\u001b[1;33m,\u001b[0m\u001b[0mtraining\u001b[0m\u001b[1;33m)\u001b[0m\u001b[1;33m)\u001b[0m\u001b[1;33m,\u001b[0m \u001b[0mlist\u001b[0m\u001b[1;33m(\u001b[0m\u001b[0mmap\u001b[0m\u001b[1;33m(\u001b[0m\u001b[0mx\u001b[0m\u001b[1;33m[\u001b[0m\u001b[1;34m'label'\u001b[0m\u001b[1;33m]\u001b[0m\u001b[1;33m,\u001b[0m\u001b[0mtraining\u001b[0m\u001b[1;33m)\u001b[0m\u001b[1;33m)\u001b[0m\u001b[1;33m\u001b[0m\u001b[0m\n\u001b[0m\u001b[0;32m     24\u001b[0m \u001b[1;33m\u001b[0m\u001b[0m\n",
      "\u001b[1;31mNameError\u001b[0m: name 'x' is not defined"
     ]
    }
   ],
   "source": [
    "text, labels = extractDataFromJason('training.json')\n",
    "from sklearn.feature_extraction.text import CountVectorizer\n",
    "# Vectorization\n",
    "count_vect = CountVectorizer()\n",
    "X_train_counts = count_vect.fit_transform(training_data)\n",
    "X_train_counts.shape\n",
    "Y_train = np.array(training_labels)"
   ]
  },
  {
   "cell_type": "code",
   "execution_count": 95,
   "metadata": {
    "collapsed": true
   },
   "outputs": [],
   "source": [
    "#Naive bayes\n",
    "from sklearn.naive_bayes import MultinomialNB\n",
    "clf = MultinomialNB().fit(X_train_counts, Y_train)"
   ]
  },
  {
   "cell_type": "code",
   "execution_count": 96,
   "metadata": {
    "collapsed": true
   },
   "outputs": [],
   "source": [
    "#test set vectorization\n",
    "test_count = count_vect.transform(test_data)"
   ]
  },
  {
   "cell_type": "code",
   "execution_count": 97,
   "metadata": {},
   "outputs": [
    {
     "name": "stdout",
     "output_type": "stream",
     "text": [
      "['0' '1' '1' '1' '1' '0' '0' '1' '1' '0' '0' '0']\n"
     ]
    }
   ],
   "source": [
    "prediction = clf.predict( test_count)\n",
    "print(prediction)\n",
    "#accuracy\n",
    "accuracy = np.mean(prediction == test_labels)   "
   ]
  },
  {
   "cell_type": "code",
   "execution_count": 98,
   "metadata": {},
   "outputs": [
    {
     "data": {
      "text/plain": [
       "(55, 105)"
      ]
     },
     "execution_count": 98,
     "metadata": {},
     "output_type": "execute_result"
    }
   ],
   "source": [
    "test_count[0].shape\n",
    "X_train_counts.shape"
   ]
  },
  {
   "cell_type": "code",
   "execution_count": 99,
   "metadata": {},
   "outputs": [
    {
     "data": {
      "text/plain": [
       "array(['0'], dtype='<U1')"
      ]
     },
     "execution_count": 99,
     "metadata": {},
     "output_type": "execute_result"
    }
   ],
   "source": [
    "clf.predict(test_count[0])"
   ]
  },
  {
   "cell_type": "code",
   "execution_count": 100,
   "metadata": {},
   "outputs": [
    {
     "name": "stdout",
     "output_type": "stream",
     "text": [
      "['1']\n"
     ]
    }
   ],
   "source": [
    "prediction = clf.predict( count_vect.transform([\"Help, there is a gas attack\"]))\n",
    "print(prediction)"
   ]
  },
  {
   "cell_type": "code",
   "execution_count": 101,
   "metadata": {
    "collapsed": true
   },
   "outputs": [],
   "source": [
    "#Frequency\n",
    "from sklearn.feature_extraction.text import TfidfTransformer\n",
    "tfidf_transformer = TfidfTransformer()\n",
    "X_train_tfidf = tfidf_transformer.fit_transform(X_train_counts)\n",
    "clf_TF = MultinomialNB().fit(X_train_tfidf, Y_train)"
   ]
  },
  {
   "cell_type": "code",
   "execution_count": 102,
   "metadata": {
    "collapsed": true
   },
   "outputs": [],
   "source": [
    "test_tfidf = tfidf_transformer.transform(test_count)"
   ]
  },
  {
   "cell_type": "code",
   "execution_count": 103,
   "metadata": {},
   "outputs": [
    {
     "name": "stdout",
     "output_type": "stream",
     "text": [
      "0.75\n"
     ]
    }
   ],
   "source": [
    "prediction_TF = clf_TF.predict(test_tfidf)\n",
    "accuracy_TF = np.mean(prediction_TF == test_labels)  \n",
    "print(accuracy_TF)"
   ]
  },
  {
   "cell_type": "code",
   "execution_count": 104,
   "metadata": {},
   "outputs": [
    {
     "data": {
      "text/plain": [
       "SVC(C=1.0, cache_size=200, class_weight=None, coef0=0.0,\n",
       "  decision_function_shape='ovr', degree=3, gamma='auto', kernel='rbf',\n",
       "  max_iter=-1, probability=False, random_state=None, shrinking=True,\n",
       "  tol=0.001, verbose=False)"
      ]
     },
     "execution_count": 104,
     "metadata": {},
     "output_type": "execute_result"
    }
   ],
   "source": [
    "#support vector machine\n",
    "from sklearn import svm\n",
    "clf_SVM = svm.SVC()\n",
    "clf_SVM.fit(X_train_tfidf,Y_train)"
   ]
  },
  {
   "cell_type": "code",
   "execution_count": 108,
   "metadata": {},
   "outputs": [
    {
     "name": "stdout",
     "output_type": "stream",
     "text": [
      "0.25\n"
     ]
    },
    {
     "data": {
      "text/plain": [
       "array(['1', '1', '1', '1', '1', '1', '1', '1', '1', '1', '1', '1'],\n",
       "      dtype='<U1')"
      ]
     },
     "execution_count": 108,
     "metadata": {},
     "output_type": "execute_result"
    }
   ],
   "source": [
    "prediction_SVM = clf_SVM.predict(test_tfidf)\n",
    "accuracy_SVM = accuracy_TF = np.mean(prediction_SVM == test_labels)  \n",
    "print(accuracy_SVM)\n",
    "prediction_SVM"
   ]
  },
  {
   "cell_type": "code",
   "execution_count": 120,
   "metadata": {},
   "outputs": [],
   "source": [
    "#pipeline\n",
    "from sklearn.pipeline import Pipeline\n",
    "text_clf = Pipeline([('vect', CountVectorizer()),('tfidf', TfidfTransformer()),('clf', MultinomialNB())])\n",
    "text_clf = text_clf.fit(training_data, training_labels)"
   ]
  },
  {
   "cell_type": "code",
   "execution_count": 119,
   "metadata": {},
   "outputs": [
    {
     "name": "stderr",
     "output_type": "stream",
     "text": [
      "C:\\Users\\thema\\Anaconda3\\lib\\site-packages\\sklearn\\linear_model\\stochastic_gradient.py:117: DeprecationWarning: n_iter parameter is deprecated in 0.19 and will be removed in 0.21. Use max_iter and tol instead.\n",
      "  DeprecationWarning)\n"
     ]
    },
    {
     "data": {
      "text/plain": [
       "0.75"
      ]
     },
     "execution_count": 119,
     "metadata": {},
     "output_type": "execute_result"
    }
   ],
   "source": [
    "from sklearn.linear_model import SGDClassifier\n",
    "\n",
    "text_clf_svm = Pipeline([('vect', CountVectorizer()),('tfidf', TfidfTransformer()),('clf-svm', SGDClassifier(loss='hinge', penalty='l2',alpha=1e-3, n_iter=5, random_state=42))])\n",
    "text_clf_svm = text_clf_svm.fit(training_data,training_labels)\n",
    "pred_svm = text_clf_svm.predict(test_data)\n",
    "np.mean(pred_svm==test_labels)"
   ]
  },
  {
   "cell_type": "code",
   "execution_count": 117,
   "metadata": {},
   "outputs": [
    {
     "name": "stdout",
     "output_type": "stream",
     "text": [
      "['her', 'this', 'ain', 'myself', 'wasn', 'them', '$', 'while', 'until', 'again', 'she', 'but', 'yours', 'down', 'did', 'shan', 'no', 'weren', 'of', 'aren', 'other', 'himself', 'ours', 'with', 'now', 'didn', '*', \"'\", 'i', 'during', 'most', 'me', 'an', 'any', '!', '^', 'when', 'hadn', 'further', 'up', 'wouldn', '.', 've', 'we', '=', 'both', '}', ']', 'needn', 'his', 'that', 'about', 'on', ')', 'does', 'and', 'been', 'just', 'its', 'against', 'they', 'for', 'what', 'doesn', 'm', 'should', 'my', 'it', 'has', 'your', 'then', 'once', 'won', 'itself', 'hasn', 'below', 'herself', 'before', 'out', 'he', 'not', 'theirs', 'as', 'more', '<', 'who', '/', 'through', ':', 'here', 'had', 'between', 'where', 'each', 'a', 'off', '(', 'at', 'were', 'or', 'haven', '|', 'themselves', 'mustn', '~', 'doing', 'our', 'don', 'mightn', 't', '-', '[', '?', 'isn', '%', '&', 'd', 'very', '@', 'will', 'hers', '>', '#', '{', 'is', 'few', 'shouldn', 'how', 'after', 'such', 'have', 'these', 'ma', 'so', '`', 'o', ',', 'ourselves', 'can', 's', 'was', 'because', 'under', 'above', 'only', 'll', '_', 'their', 'to', 'being', 'those', 'the', 'than', 'y', 'him', 'couldn', '\\\\', 're', 'from', 'own', 'into', 'all', 'are', 'yourself', 'there', ';', 'do', 'too', 'am', 'in', 'nor', 'some', 'yourselves', 'whom', 'same', 'if', 'you', 'be', '\"', 'by', 'over', 'having', 'why', '+', 'which']\n"
     ]
    }
   ],
   "source": [
    "from nltk.corpus import stopwords #collection of stopwords from different languages\n",
    "from string import punctuation #punctuation since they are considered as tokens\n",
    "customStopWords=set(stopwords.words('english')+list(punctuation))\n",
    "print(list(customStopWords))"
   ]
  },
  {
   "cell_type": "code",
   "execution_count": 118,
   "metadata": {},
   "outputs": [
    {
     "name": "stdout",
     "output_type": "stream",
     "text": [
      "[['ther', 'is', 'an', 'emerg', 'at', 'paddington'], ['i', 'nee', 'assist', ',', 'help'], ['ther', 'is', 'an', 'earthquak', 'wher', 'i', 'am'], ['ther', 'has', 'been', 'an', 'attack', 'at', 'paddington'], ['ther', 'has', 'been', 'a', 'ter', 'attack'], ['i', 'am', 'in', 'dang'], ['ther', 'is', 'flood'], ['i', 'requir', 'assist'], ['i', 'nee', 'help', ',', 'ther', 'is', 'a', 'fir'], ['the', 'train', 'derail', ',', 'i', 'nee', 'assist'], ['fir', 'in', 'cent', 'london'], ['the', 'build', 'is', 'on', 'fir'], ['pleas', 'send', 'help', ',', 'ther', 'is', 'a', 'flood'], ['ther', 'is', 'an', 'incid'], ['an', 'emerg', 'incid', 'hap', 'at', 'the', 'tub'], ['ther', 'was', 'a', 'car', 'crash', 'on', 'the', 'm1'], ['ther', 'is', 'a', 'multipl', 'car', 'crash'], ['a', 'bomb', 'explod', 'on', 'the', 'train'], ['ther', 'is', 'a', 'ter', 'incid', 'at', 'paddington'], ['peopl', 'ar', 'run', 'away'], ['a', 'man', 'is', 'shoot', 'in', 'the', 'stat'], ['a', 'man', 'with', 'a', 'knif', 'is', 'stab', 'peopl'], ['smok', 'in', 'the', 'build'], ['a', 'plan', 'just', 'crash', 'on', 'the', 'tow'], ['the', 'train', 'derail', ',', 'i', 'nee', 'assist'], ['fir', 'in', 'cent', 'london'], ['the', 'build', 'is', 'on', 'fir'], ['pleas', 'send', 'help', ',', 'ther', 'is', 'a', 'flood'], ['no', 'thank'], ['hello'], ['do', 'you', 'lik', 'my', 'new', 'car', '?'], ['i', 'want', 'to', 'tel', 'you', 'someth'], ['hi', 'how', 'ar', 'you', '?'], ['ther', 'ar', 'arm', 'men', 'in', 'the', 'stat'], ['ther', 'ar', 'arm', 'men', 'in', 'the', 'build'], ['robbery'], ['attack'], ['ter'], ['a', 'plan', 'just', 'crash', 'on', 'the', 'tow'], ['hello', 'how', 'ar', 'you', '?'], ['i', 'lik', 'rabbit'], ['the', 'resta', 'is', 'ful'], ['che'], ['thank'], ['peopl', 'ar', 'nic', 'to', 'me'], ['i', 'want', 'to', 'book', 'a', 'tabl']]\n"
     ]
    }
   ],
   "source": [
    "from nltk.tokenize import word_tokenize, sent_tokenize\n",
    "from nltk.stem.lancaster import LancasterStemmer\n",
    "\n",
    "def Preprocess(data):\n",
    "    st = LancasterStemmer()\n",
    "    #TOKENIZE\n",
    "    out = list(map(lambda x: word_tokenize(x), data))\n",
    "    #remove stop words\n",
    "    out2 = list(filter(lambda x: x not in list(customStopWords), out))\n",
    "    stemmedWords = [[st.stem(y) for y in x]for x in out2]\n",
    "    return [' '.join(x) for x in stemmedWords]\n",
    "\n",
    "print (stemmedWords)"
   ]
  },
  {
   "cell_type": "code",
   "execution_count": 141,
   "metadata": {},
   "outputs": [
    {
     "name": "stdout",
     "output_type": "stream",
     "text": [
      "Accuracy is: 0.75\n"
     ]
    }
   ],
   "source": [
    "stemmed_training = [' '.join(x) for x in stemmedWords]\n",
    "#pipeline\n",
    "from sklearn.pipeline import Pipeline\n",
    "text_clf = Pipeline([('vect', CountVectorizer()),('tfidf', TfidfTransformer()),('clf', MultinomialNB())])\n",
    "text_clf = text_clf.fit(Preprocess(training_data), training_labels)\n",
    "\n",
    "#predict\n",
    "prediction = text_clf.predict(Preprocess(test_data))\n",
    "accuracy = np.mean(prediction==test_labels)\n",
    "print(\"Accuracy is: \" + str(accuracy))"
   ]
  },
  {
   "cell_type": "code",
   "execution_count": 154,
   "metadata": {},
   "outputs": [],
   "source": [
    "from sklearn.linear_model import LogisticRegression\n",
    "regr = LogisticRegression();\n",
    "training, test = tfidf_training(training_data, test_data)\n",
    "regr = regr.fit(training,Y_train)"
   ]
  },
  {
   "cell_type": "code",
   "execution_count": 155,
   "metadata": {},
   "outputs": [
    {
     "name": "stdout",
     "output_type": "stream",
     "text": [
      "Accuracy of the Logistic regression is: 0.6666666666666666\n"
     ]
    }
   ],
   "source": [
    "\n",
    "prediction = regr.predict(test)\n",
    "accuracy = np.mean(prediction == test_labels)\n",
    "print(\"Accuracy of the Logistic regression is: \" + str(accuracy))"
   ]
  },
  {
   "cell_type": "code",
   "execution_count": 149,
   "metadata": {},
   "outputs": [],
   "source": [
    "def tfidf_training(training_data, test_data):\n",
    "    count_vect = CountVectorizer()\n",
    "    train = count_vect.fit_transform(training_data)\n",
    "    test = count_vect.transform(test_data)\n",
    "    tfidf_transformer = TfidfTransformer()\n",
    "    return tfidf_transformer.fit_transform(train), tfidf_transformer.transform(test)\n",
    "\n",
    "def tfidf(transformer, data):\n",
    "    count_vect = CountVectorizer()\n",
    "    buffer = count_vect.transform(data)\n",
    "    tfidf_transformer = TfidfTransformer()\n",
    "    return tfidf_transformer.transform(buffer)"
   ]
  },
  {
   "cell_type": "code",
   "execution_count": 153,
   "metadata": {},
   "outputs": [
    {
     "name": "stdout",
     "output_type": "stream",
     "text": [
      "Accuracy of the SVM is: 0.75\n",
      "With preprocess the accuracy of the SVM is: 0.75\n"
     ]
    }
   ],
   "source": [
    "svc = svm.SVC(kernel='linear')\n",
    "\n",
    "training, test = tfidf_training(training_data, test_data)\n",
    "svc = svc.fit(training,Y_train)\n",
    "\n",
    "\n",
    "\n",
    "prediction = svc.predict(test)\n",
    "accuracy = np.mean(prediction == test_labels)\n",
    "print(\"Accuracy of the SVM is: \" + str(accuracy))\n",
    "training, test = tfidf_training(Preprocess(training_data), Preprocess(test_data))\n",
    " \n",
    "svc = svc.fit(training,Y_train)\n",
    "\n",
    "prediction = svc.predict(test)\n",
    "accuracy = np.mean(prediction == test_labels)\n",
    "print(\"With preprocess the accuracy of the SVM is: \" + str(accuracy))"
   ]
  },
  {
   "cell_type": "code",
   "execution_count": null,
   "metadata": {
    "collapsed": true
   },
   "outputs": [],
   "source": []
  }
 ],
 "metadata": {
  "kernelspec": {
   "display_name": "Python 3",
   "language": "python",
   "name": "python3"
  },
  "language_info": {
   "codemirror_mode": {
    "name": "ipython",
    "version": 3
   },
   "file_extension": ".py",
   "mimetype": "text/x-python",
   "name": "python",
   "nbconvert_exporter": "python",
   "pygments_lexer": "ipython3",
   "version": "3.6.3"
  }
 },
 "nbformat": 4,
 "nbformat_minor": 2
}
