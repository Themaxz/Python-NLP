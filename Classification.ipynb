{
 "cells": [
  {
   "cell_type": "code",
   "execution_count": 2,
   "metadata": {},
   "outputs": [
    {
     "name": "stdout",
     "output_type": "stream",
     "text": [
      "<class 'str'>\n"
     ]
    },
    {
     "data": {
      "text/plain": [
       "'Regan CollinsBlockedUnblockFollowFollowingCEO at AzuronautNov 27Workplace by Facebook and SharePoint   Better Together.Image credit: Workplace by FacebookTwo of the world s biggest brands in technology and business are proving that working together provides the best solution for their Enterprise clients.The theory writers have not had time to put pen to paper on this unwritten and somewhat undisclosed relationship, but as the CEO of Azuronaut   a Workplace by Facebook and a Microsoft Gold partner   I ve been sitting in the catbird seat.From my vantage point it s clear that both Microsoft and Workplace by Facebook can give big benefit to businesses by allowing organisations to use the best of both platforms.Whole new worldOrganisations previously tried to meet their needs by using  one size fits  all software solutions. Now   with SaaS implementation times and pricing methodologies   businesses can use multiple on-point cloud technologies, integrate them and reap the benefits. So when I meet with large enterprises to advise them on business transformation and better ways of working, the number one question I get asked is  where can I give my employees one place to perform all tasks and one place to access all systems and tools  In the nineties, people sought to answer this question by linking IT systems together using Single Sign On (SSO) and developing purpose-built SharePoint Sites to bring employees together and help them collaborate. Despite heavy investment these solutions never fully worked or felt right because SharePoint wasn t built with engagement as it s core competency!Today, I put forward a very simple but powerful idea: use tools for the purpose they were built for. Office 365 for productivity applications. SharePoint for document storage and management. Workplace by Facebook for engagement.Tools for the purpose they were built forFacebook has entered the B2B market with Workplace and quickly proven that the familiarity of Facebook can link an organisation from the CEO to the shop floor, promote bottom up decision making and create an innovative company culture.For the first time staff have been asked to pick up their phones at work, open a consumer-like application and engage in an open dialogue with their management. The results have been eye watering. Organisations have achieved adoption rates of 80%+ and CEO s at Fortune 500s like Starbucks have shared use cases on how Workplace has transformed work culture and processes over night.At Starbucks a process which would have normally taken weeks, if not months, happened in 24 hours thanks to Workplace. Click here to learn more.Microsoft on the other hand also has a mature suite of products that are familiar and used in most large organisations. Office 365 brings capabilities well beyond Word, Excel and PowerPoint that are hard to replicate and SharePoint is second-to-none for document storage, co-authoring, version control and workflows.As with Workplace its products also meet the most stringent security and governance standards which are required by enterprise corporations.One point of entryAt my company Azuronaut we regularly implement the two platforms through one single connected experience. Workplace becomes the entry point where employees login each morning and engage directly with colleagues. Microsoft s tools and applications then operate behind the scenes allowing teams to collaborate on documents, store files and use purpose-built applications and workflows.So if a user is publishing top-down content like the annual CFO announcement or the arrival of a new CEO they can get the appropriate approvals using built-in workflows and sign-off in SharePoint. They can then publish to the entire organisation using Workplace. It s the same process as a traditional Newspaper sharing its articles on consumer Facebook. Facebook becomes the point of likes, comments and engagement just like Workplace.What s more is that forward thinking companies are now starting to move complicated but business critical systems to the background. These systems then operate as the brains behind a more engaging front end of consumer like applications and artificially intelligent chatbots.Example I   SharePoint BotUsers can search for SharePoint documents from within Workplace using the Azuronaut SharePoint Bot. Clients use this Bot to easily access content stored across multiple SharePoint sites and open and edit documents from within Workplace. An employee can easily search for the document or file they are looking for, see a preview and open the right version to collaborate.Example II   Outlook BotWe have clients who now book all of their internal meetings through an Outlook Bot on Workplace by @ mentioning their colleagues in Groups and Chat. In the background, the intelligent bot finds availability across multiple calendars and geographies, creates the calendar event and automatically sends out invitations. Reminders are then automatically sent in Workplace Chat before the start of an event and busy attendees can notify others of their status   such as  running 5 minutes late  or  I m on my way .Example III   Automated User and Group ManagementWe have clients who automate User and Group Management in Workplace using their organisational structures in Azure AD. This means employees are instantly able to operate from Workplace when they join a company and access the information they need to do their jobs. Administrators can then stay on top of compliance by preventing those who have changed departments or left an organisation from accessing unauthorised information.SummaryIn all of the above cases, Workplace becomes the point of entry for users and Microsoft operates as the brains and workflow behind the interaction.The power comes from a unique partnership where two technologies work at what they do best and deliver flawless results to an organisation and its employees.Simply put, these two platforms are better together.My readers and I would love to hear your thoughts!Please comment on the section below if you d like to contribute to this conversation Want to connect  Email: regan@azuronaut.com LinkedIn: https://www.linkedin.com/in/regancollinsAzuronautOne clap, two clap, three clap, forty By clapping more or less, you can signal to us which stories really stand out.135BlockedUnblockFollowFollowingRegan CollinsCEO at AzuronautFollowAzuronautPioneering the Future of Work  '"
      ]
     },
     "execution_count": 2,
     "metadata": {},
     "output_type": "execute_result"
    }
   ],
   "source": [
    "from urllib.request import Request, urlopen\n",
    "from sklearn.neighbors import KNeighborsClassifier\n",
    "from bs4 import BeautifulSoup  #parse html page\n",
    "url = \"https://futureofwork.azuronaut.com/workplace-by-facebook-and-sharepoint-better-together-b703203211e7\"\n",
    "#get the webpage\n",
    "req = Request(url, headers={'User-Agent': 'Mozilla/5.0'})  #tell that the scraper is a web browser\n",
    "webpage = urlopen(req).read().decode('utf8', 'ignore')\n",
    "soup = BeautifulSoup(webpage, \"lxml\")\n",
    "text = ' '.join(map(lambda p: p.text, soup.find_all('article')))  #extract the article from the html\n",
    "print(type(text))\n",
    "#special characters are due to encoding\n",
    "text = text.encode('ascii', errors='replace').decode('ascii')\n",
    "text.replace(\"?\", \" \")\n",
    "classifier = KNeighborsClassifier()\n",
    "classifier.fit()"
   ]
  },
  {
   "cell_type": "code",
   "execution_count": null,
   "metadata": {
    "collapsed": true
   },
   "outputs": [],
   "source": []
  }
 ],
 "metadata": {
  "kernelspec": {
   "display_name": "Python 3",
   "language": "python",
   "name": "python3"
  },
  "language_info": {
   "codemirror_mode": {
    "name": "ipython",
    "version": 3
   },
   "file_extension": ".py",
   "mimetype": "text/x-python",
   "name": "python",
   "nbconvert_exporter": "python",
   "pygments_lexer": "ipython3",
   "version": "3.6.3"
  }
 },
 "nbformat": 4,
 "nbformat_minor": 2
}
